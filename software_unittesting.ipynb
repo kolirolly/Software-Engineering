{
  "nbformat": 4,
  "nbformat_minor": 0,
  "metadata": {
    "colab": {
      "provenance": []
    },
    "kernelspec": {
      "name": "python3",
      "display_name": "Python 3"
    },
    "language_info": {
      "name": "python"
    }
  },
  "cells": [
    {
      "cell_type": "code",
      "execution_count": null,
      "metadata": {
        "id": "NrMstsSCTJIk"
      },
      "outputs": [],
      "source": [
        "import unittest\n",
        "\n",
        "# --------------------------\n",
        "# MODULE 1: Number (Prime Checker)\n",
        "# --------------------------\n",
        "class Number:\n",
        "    \"\"\"Represents a number with utility functions.\"\"\"\n",
        "    def __init__(self, value):\n",
        "        if not isinstance(value, int):\n",
        "            raise ValueError(\"Value must be an integer.\")\n",
        "        self.value = value\n",
        "\n",
        "    def is_prime(self):\n",
        "        \"\"\"Returns True if the number is prime.\"\"\"\n",
        "        if self.value < 2:\n",
        "            return False\n",
        "        for i in range(2, int(self.value ** 0.5) + 1):\n",
        "            if self.value % i == 0:\n",
        "                return False\n",
        "        return True"
      ]
    },
    {
      "cell_type": "code",
      "source": [
        "class Account:\n",
        "    \"\"\"Base class representing a generic account.\"\"\"\n",
        "    def __init__(self, owner, balance=0.0):\n",
        "        self.owner = owner\n",
        "        self.balance = balance\n",
        "\n",
        "    def get_balance(self):\n",
        "        \"\"\"Returns current balance.\"\"\"\n",
        "        return self.balance\n",
        "\n",
        "class BankAccount(Account):\n",
        "    \"\"\"Derived class that allows deposit and withdrawal operations.\"\"\"\n",
        "    def deposit(self, amount):\n",
        "        \"\"\"Deposits a positive amount.\"\"\"\n",
        "        if amount <= 0:\n",
        "            raise ValueError(\"Deposit amount must be positive.\")\n",
        "        self.balance += amount\n",
        "        return self.balance\n",
        "\n",
        "    def withdraw(self, amount):\n",
        "        \"\"\"Withdraws a valid amount if sufficient balance exists.\"\"\"\n",
        "        if amount <= 0:\n",
        "            raise ValueError(\"Withdrawal amount must be positive.\")\n",
        "        if amount > self.balance:\n",
        "            raise ValueError(\"Insufficient balance.\")\n",
        "        self.balance -= amount\n",
        "        return self.balance"
      ],
      "metadata": {
        "id": "ZYJh66lfTLhq"
      },
      "execution_count": null,
      "outputs": []
    },
    {
      "cell_type": "code",
      "source": [
        "class TestNumber(unittest.TestCase):\n",
        "    def test_is_prime_valid(self):\n",
        "        self.assertTrue(Number(7).is_prime())\n",
        "\n",
        "    def test_is_prime_not_prime(self):\n",
        "        self.assertFalse(Number(8).is_prime())\n",
        "\n",
        "    def test_is_prime_edge_case(self):\n",
        "        self.assertFalse(Number(1).is_prime())\n",
        "\n",
        "    def test_is_prime_invalid_input(self):\n",
        "        with self.assertRaises(ValueError):\n",
        "            Number(\"abc\")\n",
        "\n",
        "class TestBankAccount(unittest.TestCase):\n",
        "    def setUp(self):\n",
        "        self.account = BankAccount(\"Alice\", 100)\n",
        "\n",
        "    def test_deposit_valid(self):\n",
        "        self.account.deposit(50)\n",
        "        self.assertEqual(self.account.get_balance(), 150)\n",
        "\n",
        "    def test_deposit_invalid(self):\n",
        "        with self.assertRaises(ValueError):\n",
        "            self.account.deposit(-20)\n",
        "\n",
        "    def test_withdraw_valid(self):\n",
        "        self.account.withdraw(30)\n",
        "        self.assertEqual(self.account.get_balance(), 70)\n",
        "\n",
        "    def test_withdraw_insufficient(self):\n",
        "        with self.assertRaises(ValueError):\n",
        "            self.account.withdraw(200)\n",
        "\n",
        "    def test_withdraw_invalid(self):\n",
        "        with self.assertRaises(ValueError):\n",
        "            self.account.withdraw(-10)\n",
        "\n",
        "# --------------------------\n",
        "# Run tests in Colab-safe format\n",
        "# --------------------------\n",
        "unittest.TextTestRunner().run(unittest.TestLoader().loadTestsFromTestCase(TestNumber))\n",
        "unittest.TextTestRunner().run(unittest.TestLoader().loadTestsFromTestCase(TestBankAccount))"
      ],
      "metadata": {
        "colab": {
          "base_uri": "https://localhost:8080/"
        },
        "id": "PemFqKZ-T_gy",
        "outputId": "486c8f4a-f8eb-4d04-9818-e057b9621d73"
      },
      "execution_count": null,
      "outputs": [
        {
          "output_type": "stream",
          "name": "stderr",
          "text": [
            "....\n",
            "----------------------------------------------------------------------\n",
            "Ran 4 tests in 0.007s\n",
            "\n",
            "OK\n",
            ".....\n",
            "----------------------------------------------------------------------\n",
            "Ran 5 tests in 0.004s\n",
            "\n",
            "OK\n"
          ]
        },
        {
          "output_type": "execute_result",
          "data": {
            "text/plain": [
              "<unittest.runner.TextTestResult run=5 errors=0 failures=0>"
            ]
          },
          "metadata": {},
          "execution_count": 11
        }
      ]
    }
  ]
}